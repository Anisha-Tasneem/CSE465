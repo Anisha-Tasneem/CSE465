{
  "cells": [
    {
      "cell_type": "markdown",
      "metadata": {
        "id": "view-in-github",
        "colab_type": "text"
      },
      "source": [
        "<a href=\"https://colab.research.google.com/github/Anisha-Tasneem/CSE465/blob/main/Test_ipnyb.ipynb\" target=\"_parent\"><img src=\"https://colab.research.google.com/assets/colab-badge.svg\" alt=\"Open In Colab\"/></a>"
      ]
    },
    {
      "cell_type": "code",
      "source": [
        "from google.colab import drive\n",
        "drive.mount('/content/drive')"
      ],
      "metadata": {
        "colab": {
          "base_uri": "https://localhost:8080/"
        },
        "id": "cERpJw_cE0g8",
        "outputId": "580d59db-0f41-4a81-c731-d3d4bdce8360"
      },
      "execution_count": null,
      "outputs": [
        {
          "output_type": "stream",
          "name": "stdout",
          "text": [
            "Drive already mounted at /content/drive; to attempt to forcibly remount, call drive.mount(\"/content/drive\", force_remount=True).\n"
          ]
        }
      ]
    },
    {
      "cell_type": "code",
      "source": [
        "import tensorflow as tf\n",
        "from tensorflow.keras.preprocessing.image import ImageDataGenerator\n",
        "from tensorflow.keras.models import Sequential\n",
        "from tensorflow.keras.layers import Conv2D, MaxPooling2D\n",
        "from tensorflow.keras.layers import Activation, Dropout, Flatten, Dense\n",
        "\n",
        "# Define the dataset paths\n",
        "train_data_dir = \"/content/drive/MyDrive/DataSet/Train\"\n",
        "test_data_dir = \"/content/drive/MyDrive/DataSet/Test\"\n",
        "# Image dimensions and batch size\n",
        "img_width, img_height = 150, 150\n",
        "batch_size = 32\n",
        "\n",
        "# Create data generators for training and testing data\n",
        "train_datagen = ImageDataGenerator(\n",
        "    rescale=1.0/255,            # Rescale pixel values to [0, 1]\n",
        "    shear_range=0.2,            # Randomly apply shearing\n",
        "    zoom_range=0.2,             # Randomly zoom into images\n",
        "    horizontal_flip=True)       # Randomly flip images horizontally\n",
        "\n",
        "test_datagen = ImageDataGenerator(rescale=1.0/255)\n",
        "\n",
        "train_generator = train_datagen.flow_from_directory(\n",
        "    train_data_dir,\n",
        "    target_size=(img_width, img_height),\n",
        "    batch_size=batch_size,\n",
        "    class_mode='binary')\n",
        "\n",
        "test_generator = test_datagen.flow_from_directory(\n",
        "    test_data_dir,\n",
        "    target_size=(img_width, img_height),\n",
        "    batch_size=batch_size,\n",
        "    class_mode='binary')\n",
        "\n",
        "# Build the CNN model\n",
        "model = Sequential()\n",
        "\n",
        "model.add(Conv2D(32, (3, 3), input_shape=(img_width, img_height, 3)))\n",
        "model.add(Activation('relu'))\n",
        "model.add(MaxPooling2D(pool_size=(2, 2)))\n",
        "\n",
        "model.add(Conv2D(64, (3, 3)))\n",
        "model.add(Activation('relu'))\n",
        "model.add(MaxPooling2D(pool_size=(2, 2)))\n",
        "\n",
        "model.add(Conv2D(128, (3, 3)))\n",
        "model.add(Activation('relu'))\n",
        "model.add(MaxPooling2D(pool_size=(2, 2)))\n",
        "\n",
        "model.add(Flatten())\n",
        "model.add(Dense(128))\n",
        "model.add(Activation('relu'))\n",
        "model.add(Dropout(0.5))\n",
        "model.add(Dense(1))\n",
        "model.add(Activation('sigmoid'))\n",
        "\n",
        "# Compile the model\n",
        "model.compile(loss='binary_crossentropy',\n",
        "              optimizer='adam',\n",
        "              metrics=['accuracy'])\n",
        "\n",
        "# Train the model\n",
        "history = model.fit(train_generator, steps_per_epoch=len(train_generator),\n",
        "          epochs=50,\n",
        "          validation_data=test_generator,\n",
        "          validation_steps=len(test_generator))\n",
        "\n",
        "# Access the training accuracy from the history object\n",
        "training_accuracy = history.history['accuracy']\n",
        "\n",
        "# Print or use the training accuracy as needed\n",
        "print(f\"Training Accuracy: {training_accuracy[-1]}\")\n",
        "\n",
        "# Save the model\n",
        "model.save('cnn_model.h5')\n"
      ],
      "metadata": {
        "colab": {
          "base_uri": "https://localhost:8080/"
        },
        "id": "CN9kIaMAE8iY",
        "outputId": "dcfd70cf-18fd-444e-d6be-db006fcef9dd"
      },
      "execution_count": null,
      "outputs": [
        {
          "output_type": "stream",
          "name": "stdout",
          "text": [
            "Found 7020 images belonging to 2 classes.\n",
            "Found 3000 images belonging to 2 classes.\n",
            "Epoch 1/50\n",
            "220/220 [==============================] - 3844s 17s/step - loss: 0.5490 - accuracy: 0.7189 - val_loss: 0.2955 - val_accuracy: 0.8883\n",
            "Epoch 2/50\n",
            "220/220 [==============================] - 74s 335ms/step - loss: 0.4917 - accuracy: 0.7662 - val_loss: 0.4333 - val_accuracy: 0.8240\n",
            "Epoch 3/50\n",
            "220/220 [==============================] - 71s 321ms/step - loss: 0.4061 - accuracy: 0.7970 - val_loss: 0.3404 - val_accuracy: 0.8347\n",
            "Epoch 4/50\n",
            "220/220 [==============================] - 70s 319ms/step - loss: 0.3151 - accuracy: 0.8709 - val_loss: 0.3142 - val_accuracy: 0.8467\n",
            "Epoch 5/50\n",
            "220/220 [==============================] - 73s 332ms/step - loss: 0.3100 - accuracy: 0.8641 - val_loss: 0.2622 - val_accuracy: 0.8800\n",
            "Epoch 6/50\n",
            "220/220 [==============================] - 72s 329ms/step - loss: 0.2773 - accuracy: 0.8846 - val_loss: 0.3148 - val_accuracy: 0.8470\n",
            "Epoch 7/50\n",
            "220/220 [==============================] - 68s 310ms/step - loss: 0.2275 - accuracy: 0.9135 - val_loss: 0.3027 - val_accuracy: 0.8777\n",
            "Epoch 8/50\n",
            "220/220 [==============================] - 69s 315ms/step - loss: 0.1927 - accuracy: 0.9291 - val_loss: 0.2283 - val_accuracy: 0.8977\n",
            "Epoch 9/50\n",
            "220/220 [==============================] - 68s 310ms/step - loss: 0.1565 - accuracy: 0.9436 - val_loss: 0.2070 - val_accuracy: 0.9163\n",
            "Epoch 10/50\n",
            "220/220 [==============================] - 71s 323ms/step - loss: 0.1486 - accuracy: 0.9501 - val_loss: 0.2050 - val_accuracy: 0.9183\n",
            "Epoch 11/50\n",
            "220/220 [==============================] - 68s 310ms/step - loss: 0.1434 - accuracy: 0.9519 - val_loss: 0.2923 - val_accuracy: 0.8833\n",
            "Epoch 12/50\n",
            "220/220 [==============================] - 69s 312ms/step - loss: 0.1361 - accuracy: 0.9526 - val_loss: 0.2445 - val_accuracy: 0.9020\n",
            "Epoch 13/50\n",
            "220/220 [==============================] - 68s 310ms/step - loss: 0.1283 - accuracy: 0.9558 - val_loss: 0.2069 - val_accuracy: 0.9220\n",
            "Epoch 14/50\n",
            "220/220 [==============================] - 72s 328ms/step - loss: 0.1323 - accuracy: 0.9540 - val_loss: 0.1973 - val_accuracy: 0.9177\n",
            "Epoch 15/50\n",
            "220/220 [==============================] - 69s 314ms/step - loss: 0.1294 - accuracy: 0.9564 - val_loss: 0.2215 - val_accuracy: 0.9123\n",
            "Epoch 16/50\n",
            "220/220 [==============================] - 69s 316ms/step - loss: 0.1303 - accuracy: 0.9541 - val_loss: 0.1862 - val_accuracy: 0.9340\n",
            "Epoch 17/50\n",
            "220/220 [==============================] - 69s 315ms/step - loss: 0.1249 - accuracy: 0.9567 - val_loss: 0.2658 - val_accuracy: 0.9073\n",
            "Epoch 18/50\n",
            "220/220 [==============================] - 72s 326ms/step - loss: 0.1226 - accuracy: 0.9585 - val_loss: 0.2278 - val_accuracy: 0.9127\n",
            "Epoch 19/50\n",
            "220/220 [==============================] - 70s 317ms/step - loss: 0.1200 - accuracy: 0.9570 - val_loss: 0.2058 - val_accuracy: 0.9153\n",
            "Epoch 20/50\n",
            "220/220 [==============================] - 70s 320ms/step - loss: 0.1156 - accuracy: 0.9571 - val_loss: 0.2167 - val_accuracy: 0.9183\n",
            "Epoch 21/50\n",
            "220/220 [==============================] - 72s 330ms/step - loss: 0.1183 - accuracy: 0.9594 - val_loss: 0.2163 - val_accuracy: 0.9193\n",
            "Epoch 22/50\n",
            "220/220 [==============================] - 73s 332ms/step - loss: 0.1123 - accuracy: 0.9607 - val_loss: 0.2329 - val_accuracy: 0.9107\n",
            "Epoch 23/50\n",
            "220/220 [==============================] - 71s 322ms/step - loss: 0.1097 - accuracy: 0.9630 - val_loss: 0.2369 - val_accuracy: 0.9133\n",
            "Epoch 24/50\n",
            "220/220 [==============================] - 70s 319ms/step - loss: 0.1087 - accuracy: 0.9641 - val_loss: 0.2324 - val_accuracy: 0.9090\n",
            "Epoch 25/50\n",
            "220/220 [==============================] - 69s 316ms/step - loss: 0.1060 - accuracy: 0.9634 - val_loss: 0.2280 - val_accuracy: 0.9200\n",
            "Epoch 26/50\n",
            "220/220 [==============================] - 70s 317ms/step - loss: 0.1064 - accuracy: 0.9581 - val_loss: 0.2492 - val_accuracy: 0.9143\n",
            "Epoch 27/50\n",
            "220/220 [==============================] - 73s 332ms/step - loss: 0.1102 - accuracy: 0.9617 - val_loss: 0.2382 - val_accuracy: 0.9147\n",
            "Epoch 28/50\n",
            "220/220 [==============================] - 69s 312ms/step - loss: 0.1056 - accuracy: 0.9625 - val_loss: 0.2137 - val_accuracy: 0.9210\n",
            "Epoch 29/50\n",
            "220/220 [==============================] - 69s 314ms/step - loss: 0.1091 - accuracy: 0.9600 - val_loss: 0.2389 - val_accuracy: 0.9120\n",
            "Epoch 30/50\n",
            "220/220 [==============================] - 71s 322ms/step - loss: 0.1052 - accuracy: 0.9620 - val_loss: 0.2038 - val_accuracy: 0.9263\n",
            "Epoch 31/50\n",
            "220/220 [==============================] - 74s 335ms/step - loss: 0.1064 - accuracy: 0.9635 - val_loss: 0.2252 - val_accuracy: 0.9193\n",
            "Epoch 32/50\n",
            "220/220 [==============================] - 69s 316ms/step - loss: 0.1025 - accuracy: 0.9641 - val_loss: 0.2490 - val_accuracy: 0.9170\n",
            "Epoch 33/50\n",
            "220/220 [==============================] - 69s 314ms/step - loss: 0.1013 - accuracy: 0.9631 - val_loss: 0.2371 - val_accuracy: 0.9093\n",
            "Epoch 34/50\n",
            "220/220 [==============================] - 69s 314ms/step - loss: 0.0963 - accuracy: 0.9641 - val_loss: 0.2332 - val_accuracy: 0.9230\n",
            "Epoch 35/50\n",
            "220/220 [==============================] - 72s 328ms/step - loss: 0.0946 - accuracy: 0.9661 - val_loss: 0.2391 - val_accuracy: 0.9233\n",
            "Epoch 36/50\n",
            "220/220 [==============================] - 69s 315ms/step - loss: 0.0871 - accuracy: 0.9671 - val_loss: 0.2492 - val_accuracy: 0.9143\n",
            "Epoch 37/50\n",
            "220/220 [==============================] - 69s 316ms/step - loss: 0.0901 - accuracy: 0.9674 - val_loss: 0.2342 - val_accuracy: 0.9137\n",
            "Epoch 38/50\n",
            "220/220 [==============================] - 70s 316ms/step - loss: 0.0860 - accuracy: 0.9682 - val_loss: 0.2553 - val_accuracy: 0.9237\n",
            "Epoch 39/50\n",
            "220/220 [==============================] - 72s 328ms/step - loss: 0.0908 - accuracy: 0.9667 - val_loss: 0.2139 - val_accuracy: 0.9167\n",
            "Epoch 40/50\n",
            "220/220 [==============================] - 72s 325ms/step - loss: 0.0903 - accuracy: 0.9687 - val_loss: 0.2328 - val_accuracy: 0.9110\n",
            "Epoch 41/50\n",
            "220/220 [==============================] - 70s 316ms/step - loss: 0.0893 - accuracy: 0.9679 - val_loss: 0.2312 - val_accuracy: 0.9163\n",
            "Epoch 42/50\n",
            "220/220 [==============================] - 68s 309ms/step - loss: 0.0825 - accuracy: 0.9681 - val_loss: 0.2547 - val_accuracy: 0.9243\n",
            "Epoch 43/50\n",
            "220/220 [==============================] - 68s 309ms/step - loss: 0.0914 - accuracy: 0.9657 - val_loss: 0.2316 - val_accuracy: 0.9193\n",
            "Epoch 44/50\n",
            "220/220 [==============================] - 73s 331ms/step - loss: 0.1065 - accuracy: 0.9627 - val_loss: 0.2578 - val_accuracy: 0.9237\n",
            "Epoch 45/50\n",
            "220/220 [==============================] - 69s 314ms/step - loss: 0.0898 - accuracy: 0.9652 - val_loss: 0.2768 - val_accuracy: 0.9100\n",
            "Epoch 46/50\n",
            "220/220 [==============================] - 72s 326ms/step - loss: 0.0907 - accuracy: 0.9692 - val_loss: 0.2634 - val_accuracy: 0.9097\n",
            "Epoch 47/50\n",
            "220/220 [==============================] - 70s 318ms/step - loss: 0.0882 - accuracy: 0.9654 - val_loss: 0.2697 - val_accuracy: 0.9213\n",
            "Epoch 48/50\n",
            "220/220 [==============================] - 72s 329ms/step - loss: 0.0856 - accuracy: 0.9687 - val_loss: 0.2699 - val_accuracy: 0.9223\n",
            "Epoch 49/50\n",
            "220/220 [==============================] - 70s 318ms/step - loss: 0.0834 - accuracy: 0.9704 - val_loss: 0.3000 - val_accuracy: 0.9260\n",
            "Epoch 50/50\n",
            "220/220 [==============================] - 72s 329ms/step - loss: 0.0772 - accuracy: 0.9724 - val_loss: 0.2473 - val_accuracy: 0.9283\n",
            "Training Accuracy: 0.9723646640777588\n"
          ]
        },
        {
          "output_type": "stream",
          "name": "stderr",
          "text": [
            "/usr/local/lib/python3.10/dist-packages/keras/src/engine/training.py:3079: UserWarning: You are saving your model as an HDF5 file via `model.save()`. This file format is considered legacy. We recommend using instead the native Keras format, e.g. `model.save('my_model.keras')`.\n",
            "  saving_api.save_model(\n"
          ]
        }
      ]
    },
    {
      "cell_type": "code",
      "source": [
        "import numpy as np\n",
        "from sklearn.metrics import classification_report, confusion_matrix\n",
        "import matplotlib.pyplot as plt\n",
        "import seaborn as sns\n",
        "import pandas as pd\n",
        "\n",
        "# Load the saved model\n",
        "model = tf.keras.models.load_model('cnn_model.h5')\n",
        "\n",
        "# Evaluate the model on the test dataset\n",
        "test_loss, test_accuracy = model.evaluate(test_generator, steps=len(test_generator))\n",
        "print(f'Test Accuracy: {test_accuracy * 100:.2f}%')\n",
        "\n",
        "# Generate predictions for the test set\n",
        "predictions = model.predict(test_generator)\n",
        "\n",
        "# Convert predicted probabilities to binary labels (0 or 1)\n",
        "predicted_labels = (predictions > 0.5).astype(int)\n",
        "\n",
        "# Get true labels from the test generator\n",
        "true_labels = test_generator.classes\n",
        "\n",
        "# Create a classification report\n",
        "class_names = list(test_generator.class_indices.keys())\n",
        "classification_rep = classification_report(true_labels, predicted_labels, target_names=class_names)\n",
        "print(classification_rep)\n",
        "\n",
        "# Create a confusion matrix\n",
        "confusion_mat = confusion_matrix(true_labels, predicted_labels)\n",
        "\n",
        "# Display a confusion matrix plot with values inside\n",
        "def plot_confusion_matrix_with_values(cm, classes, title='Confusion Matrix'):\n",
        "    plt.figure(figsize=(8, 6))\n",
        "    sns.heatmap(cm, annot=True, fmt='d', cmap='Blues', xticklabels=classes, yticklabels=classes)\n",
        "    plt.title(title)\n",
        "    plt.ylabel('Actual')\n",
        "    plt.xlabel('Predicted')\n",
        "    plt.show()\n",
        "\n",
        "plot_confusion_matrix_with_values(confusion_mat, classes=class_names)\n",
        "\n"
      ],
      "metadata": {
        "colab": {
          "base_uri": "https://localhost:8080/",
          "height": 772
        },
        "id": "0xVTS_4RsC9Q",
        "outputId": "25f70149-a03d-47a2-f290-25e7503b12e7"
      },
      "execution_count": null,
      "outputs": [
        {
          "output_type": "stream",
          "name": "stdout",
          "text": [
            "94/94 [==============================] - 9s 91ms/step - loss: 0.2473 - accuracy: 0.9283\n",
            "Test Accuracy: 92.83%\n",
            "94/94 [==============================] - 8s 85ms/step\n",
            "              precision    recall  f1-score   support\n",
            "\n",
            " Parasitized       0.70      0.67      0.68      2100\n",
            "  Uninfected       0.29      0.31      0.30       900\n",
            "\n",
            "    accuracy                           0.56      3000\n",
            "   macro avg       0.49      0.49      0.49      3000\n",
            "weighted avg       0.57      0.56      0.57      3000\n",
            "\n"
          ]
        },
        {
          "output_type": "display_data",
          "data": {
            "text/plain": [
              "<Figure size 800x600 with 2 Axes>"
            ],
            "image/png": "[encoded data removed]"
          },
          "metadata": {}
        }
      ]
    },
    {
      "cell_type": "code",
      "source": [
        "import matplotlib.pyplot as plt\n",
        "\n",
        "# Plot the training and validation curves\n",
        "def plot_training_history(history):\n",
        "    plt.figure(figsize=(12, 4))\n",
        "\n",
        "    # Plot training & validation accuracy values\n",
        "    plt.subplot(1, 2, 1)\n",
        "    plt.plot(history.history['accuracy'])\n",
        "    plt.plot(history.history['val_accuracy'])\n",
        "    plt.title('Model Accuracy')\n",
        "    plt.xlabel('Epoch')\n",
        "    plt.ylabel('Accuracy')\n",
        "    plt.legend(['Train', 'Validation'], loc='upper left')\n",
        "\n",
        "    # Plot training & validation loss values\n",
        "    plt.subplot(1, 2, 2)\n",
        "    plt.plot(history.history['loss'])\n",
        "    plt.plot(history.history['val_loss'])\n",
        "    plt.title('Model Loss')\n",
        "    plt.xlabel('Epoch')\n",
        "    plt.ylabel('Loss')\n",
        "    plt.legend(['Train', 'Validation'], loc='upper right')\n",
        "\n",
        "    plt.tight_layout()\n",
        "    plt.show()\n",
        "\n",
        "plot_training_history(history)\n"
      ],
      "metadata": {
        "colab": {
          "base_uri": "https://localhost:8080/",
          "height": 407
        },
        "id": "ZXxKnKEZoCa6",
        "outputId": "bfda992c-40c1-4a37-ad2a-08efdcf0703f"
      },
      "execution_count": null,
      "outputs": [
        {
          "output_type": "display_data",
          "data": {
            "text/plain": [
              "<Figure size 1200x400 with 2 Axes>"
            ],
            "image/png": "[encoded data removed]"
          },
          "metadata": {}
        }
      ]
    },
    {
      "cell_type": "code",
      "source": [
        "!nvidia-smi"
      ],
      "metadata": {
        "colab": {
          "base_uri": "https://localhost:8080/"
        },
        "id": "y4FX7vP_UDqy",
        "outputId": "ba67500f-d7fd-4f8e-8905-e74aefcf1bd2"
      },
      "execution_count": null,
      "outputs": [
        {
          "output_type": "stream",
          "name": "stdout",
          "text": [
            "Sun Nov 12 16:15:05 2023       \n",
            "+-----------------------------------------------------------------------------+\n",
            "| NVIDIA-SMI 525.105.17   Driver Version: 525.105.17   CUDA Version: 12.0     |\n",
            "|-------------------------------+----------------------+----------------------+\n",
            "| GPU  Name        Persistence-M| Bus-Id        Disp.A | Volatile Uncorr. ECC |\n",
            "| Fan  Temp  Perf  Pwr:Usage/Cap|         Memory-Usage | GPU-Util  Compute M. |\n",
            "|                               |                      |               MIG M. |\n",
            "|===============================+======================+======================|\n",
            "|   0  Tesla T4            Off  | 00000000:00:04.0 Off |                    0 |\n",
            "| N/A   54C    P0    30W /  70W |   2877MiB / 15360MiB |      0%      Default |\n",
            "|                               |                      |                  N/A |\n",
            "+-------------------------------+----------------------+----------------------+\n",
            "                                                                               \n",
            "+-----------------------------------------------------------------------------+\n",
            "| Processes:                                                                  |\n",
            "|  GPU   GI   CI        PID   Type   Process name                  GPU Memory |\n",
            "|        ID   ID                                                   Usage      |\n",
            "|=============================================================================|\n",
            "|    0   N/A  N/A      2252      C   ...irectoryprefetcher_binary     2874MiB |\n",
            "+-----------------------------------------------------------------------------+\n"
          ]
        }
      ]
    },
    {
      "cell_type": "code",
      "source": [
        "!cat /proc/cpuinfo"
      ],
      "metadata": {
        "colab": {
          "base_uri": "https://localhost:8080/"
        },
        "id": "fJK4Uht4UPhW",
        "outputId": "30ca5087-bc9b-44f1-afed-89d928d02f82"
      },
      "execution_count": null,
      "outputs": [
        {
          "output_type": "stream",
          "name": "stdout",
          "text": [
            "processor\t: 0\n",
            "vendor_id\t: GenuineIntel\n",
            "cpu family\t: 6\n",
            "model\t\t: 85\n",
            "model name\t: Intel(R) Xeon(R) CPU @ 2.00GHz\n",
            "stepping\t: 3\n",
            "microcode\t: 0xffffffff\n",
            "cpu MHz\t\t: 2000.152\n",
            "cache size\t: 39424 KB\n",
            "physical id\t: 0\n",
            "siblings\t: 2\n",
            "core id\t\t: 0\n",
            "cpu cores\t: 1\n",
            "apicid\t\t: 0\n",
            "initial apicid\t: 0\n",
            "fpu\t\t: yes\n",
            "fpu_exception\t: yes\n",
            "cpuid level\t: 13\n",
            "wp\t\t: yes\n",
            "flags\t\t: fpu vme de pse tsc msr pae mce cx8 apic sep mtrr pge mca cmov pat pse36 clflush mmx fxsr sse sse2 ss ht syscall nx pdpe1gb rdtscp lm constant_tsc rep_good nopl xtopology nonstop_tsc cpuid tsc_known_freq pni pclmulqdq ssse3 fma cx16 pcid sse4_1 sse4_2 x2apic movbe popcnt aes xsave avx f16c rdrand hypervisor lahf_lm abm 3dnowprefetch invpcid_single ssbd ibrs ibpb stibp fsgsbase tsc_adjust bmi1 hle avx2 smep bmi2 erms invpcid rtm mpx avx512f avx512dq rdseed adx smap clflushopt clwb avx512cd avx512bw avx512vl xsaveopt xsavec xgetbv1 xsaves arat md_clear arch_capabilities\n",
            "bugs\t\t: cpu_meltdown spectre_v1 spectre_v2 spec_store_bypass l1tf mds swapgs taa mmio_stale_data retbleed\n",
            "bogomips\t: 4000.30\n",
            "clflush size\t: 64\n",
            "cache_alignment\t: 64\n",
            "address sizes\t: 46 bits physical, 48 bits virtual\n",
            "power management:\n",
            "\n",
            "processor\t: 1\n",
            "vendor_id\t: GenuineIntel\n",
            "cpu family\t: 6\n",
            "model\t\t: 85\n",
            "model name\t: Intel(R) Xeon(R) CPU @ 2.00GHz\n",
            "stepping\t: 3\n",
            "microcode\t: 0xffffffff\n",
            "cpu MHz\t\t: 2000.152\n",
            "cache size\t: 39424 KB\n",
            "physical id\t: 0\n",
            "siblings\t: 2\n",
            "core id\t\t: 0\n",
            "cpu cores\t: 1\n",
            "apicid\t\t: 1\n",
            "initial apicid\t: 1\n",
            "fpu\t\t: yes\n",
            "fpu_exception\t: yes\n",
            "cpuid level\t: 13\n",
            "wp\t\t: yes\n",
            "flags\t\t: fpu vme de pse tsc msr pae mce cx8 apic sep mtrr pge mca cmov pat pse36 clflush mmx fxsr sse sse2 ss ht syscall nx pdpe1gb rdtscp lm constant_tsc rep_good nopl xtopology nonstop_tsc cpuid tsc_known_freq pni pclmulqdq ssse3 fma cx16 pcid sse4_1 sse4_2 x2apic movbe popcnt aes xsave avx f16c rdrand hypervisor lahf_lm abm 3dnowprefetch invpcid_single ssbd ibrs ibpb stibp fsgsbase tsc_adjust bmi1 hle avx2 smep bmi2 erms invpcid rtm mpx avx512f avx512dq rdseed adx smap clflushopt clwb avx512cd avx512bw avx512vl xsaveopt xsavec xgetbv1 xsaves arat md_clear arch_capabilities\n",
            "bugs\t\t: cpu_meltdown spectre_v1 spectre_v2 spec_store_bypass l1tf mds swapgs taa mmio_stale_data retbleed\n",
            "bogomips\t: 4000.30\n",
            "clflush size\t: 64\n",
            "cache_alignment\t: 64\n",
            "address sizes\t: 46 bits physical, 48 bits virtual\n",
            "power management:\n",
            "\n"
          ]
        }
      ]
    },
    {
      "cell_type": "code",
      "source": [
        "!cat /proc/meminfo"
      ],
      "metadata": {
        "colab": {
          "base_uri": "https://localhost:8080/"
        },
        "id": "Tn-8ThwlUllO",
        "outputId": "42262269-5a28-4f4e-ac80-a47d448223bd"
      },
      "execution_count": null,
      "outputs": [
        {
          "output_type": "stream",
          "name": "stdout",
          "text": [
            "MemTotal:       13294208 kB\n",
            "MemFree:         3002444 kB\n",
            "MemAvailable:    8509728 kB\n",
            "Buffers:          157860 kB\n",
            "Cached:          5511984 kB\n",
            "SwapCached:            0 kB\n",
            "Active:          1068488 kB\n",
            "Inactive:        8684448 kB\n",
            "Active(anon):       1136 kB\n",
            "Inactive(anon):  4097656 kB\n",
            "Active(file):    1067352 kB\n",
            "Inactive(file):  4586792 kB\n",
            "Unevictable:          16 kB\n",
            "Mlocked:              16 kB\n",
            "SwapTotal:             0 kB\n",
            "SwapFree:              0 kB\n",
            "Dirty:               460 kB\n",
            "Writeback:             0 kB\n",
            "AnonPages:       4083200 kB\n",
            "Mapped:          1391292 kB\n",
            "Shmem:             15692 kB\n",
            "KReclaimable:     178560 kB\n",
            "Slab:             246388 kB\n",
            "SReclaimable:     178560 kB\n",
            "SUnreclaim:        67828 kB\n",
            "KernelStack:       22128 kB\n",
            "PageTables:        32572 kB\n",
            "NFS_Unstable:          0 kB\n",
            "Bounce:                0 kB\n",
            "WritebackTmp:          0 kB\n",
            "CommitLimit:     6647104 kB\n",
            "Committed_AS:    4956352 kB\n",
            "VmallocTotal:   34359738367 kB\n",
            "VmallocUsed:       94912 kB\n",
            "VmallocChunk:          0 kB\n",
            "Percpu:             1320 kB\n",
            "HardwareCorrupted:     0 kB\n",
            "AnonHugePages:    423936 kB\n",
            "ShmemHugePages:        0 kB\n",
            "ShmemPmdMapped:        0 kB\n",
            "FileHugePages:         0 kB\n",
            "FilePmdMapped:         0 kB\n",
            "CmaTotal:              0 kB\n",
            "CmaFree:               0 kB\n",
            "HugePages_Total:       0\n",
            "HugePages_Free:        0\n",
            "HugePages_Rsvd:        0\n",
            "HugePages_Surp:        0\n",
            "Hugepagesize:       2048 kB\n",
            "Hugetlb:               0 kB\n",
            "DirectMap4k:      277304 kB\n",
            "DirectMap2M:     7059456 kB\n",
            "DirectMap1G:     8388608 kB\n"
          ]
        }
      ]
    },
    {
      "cell_type": "code",
      "source": [
        "!df -h"
      ],
      "metadata": {
        "colab": {
          "base_uri": "https://localhost:8080/"
        },
        "id": "tG3Tq3TBUrzN",
        "outputId": "2f718893-a6ac-49b0-e264-00872d6a5b32"
      },
      "execution_count": null,
      "outputs": [
        {
          "output_type": "stream",
          "name": "stdout",
          "text": [
            "Filesystem      Size  Used Avail Use% Mounted on\n",
            "overlay          79G   28G   51G  35% /\n",
            "tmpfs            64M     0   64M   0% /dev\n",
            "shm             5.7G  8.0K  5.7G   1% /dev/shm\n",
            "/dev/root       2.0G  1.1G  885M  55% /usr/sbin/docker-init\n",
            "tmpfs           6.4G  124K  6.4G   1% /var/colab\n",
            "/dev/sda1        50G   30G   21G  60% /opt/bin/.nvidia\n",
            "tmpfs           6.4G     0  6.4G   0% /proc/acpi\n",
            "tmpfs           6.4G     0  6.4G   0% /proc/scsi\n",
            "tmpfs           6.4G     0  6.4G   0% /sys/firmware\n",
            "drive            79G   30G   49G  39% /content/drive\n"
          ]
        }
      ]
    },
    {
      "cell_type": "code",
      "source": [
        "import psutil\n",
        "\n",
        "# Get CPU usage\n",
        "cpu_usage = psutil.cpu_percent()\n",
        "print(f'CPU Usage: {cpu_usage}%')\n",
        "\n",
        "# Get memory usage\n",
        "memory_info = psutil.virtual_memory()\n",
        "print(f'Total Memory: {memory_info.total} bytes')\n",
        "print(f'Used Memory: {memory_info.used} bytes')\n",
        "print(f'Free Memory: {memory_info.available} bytes')\n",
        "\n",
        "# Get GPU information (if available)\n",
        "from tensorflow.python.client import device_lib\n",
        "device_lib.list_local_devices()"
      ],
      "metadata": {
        "colab": {
          "base_uri": "https://localhost:8080/"
        },
        "id": "He0URnHTUzVY",
        "outputId": "4682c615-fbd7-4481-a63e-fcce6231745c"
      },
      "execution_count": null,
      "outputs": [
        {
          "output_type": "stream",
          "name": "stdout",
          "text": [
            "CPU Usage: 44.1%\n",
            "Total Memory: 13613268992 bytes\n",
            "Used Memory: 4602802176 bytes\n",
            "Free Memory: 8661147648 bytes\n"
          ]
        },
        {
          "output_type": "execute_result",
          "data": {
            "text/plain": [
              "[name: \"/device:CPU:0\"\n",
              " device_type: \"CPU\"\n",
              " memory_limit: 268435456\n",
              " locality {\n",
              " }\n",
              " incarnation: 16062474715712250188\n",
              " xla_global_id: -1,\n",
              " name: \"/device:GPU:0\"\n",
              " device_type: \"GPU\"\n",
              " memory_limit: 14410383360\n",
              " locality {\n",
              "   bus_id: 1\n",
              "   links {\n",
              "   }\n",
              " }\n",
              " incarnation: 4977859490510497018\n",
              " physical_device_desc: \"device: 0, name: Tesla T4, pci bus id: 0000:00:04.0, compute capability: 7.5\"\n",
              " xla_global_id: 416903419]"
            ]
          },
          "metadata": {},
          "execution_count": 10
        }
      ]
    },
    {
      "cell_type": "code",
      "source": [
        "# Assuming 'model' is your CNN model\n",
        "model.summary()"
      ],
      "metadata": {
        "id": "bbFA5oYVdE00",
        "outputId": "c296e3de-40fb-4a8d-c992-908e01d3dba5",
        "colab": {
          "base_uri": "https://localhost:8080/"
        }
      },
      "execution_count": null,
      "outputs": [
        {
          "output_type": "stream",
          "name": "stdout",
          "text": [
            "Model: \"sequential\"\n",
            "_________________________________________________________________\n",
            " Layer (type)                Output Shape              Param #   \n",
            "=================================================================\n",
            " conv2d (Conv2D)             (None, 148, 148, 32)      896       \n",
            "                                                                 \n",
            " activation (Activation)     (None, 148, 148, 32)      0         \n",
            "                                                                 \n",
            " max_pooling2d (MaxPooling2  (None, 74, 74, 32)        0         \n",
            " D)                                                              \n",
            "                                                                 \n",
            " conv2d_1 (Conv2D)           (None, 72, 72, 64)        18496     \n",
            "                                                                 \n",
            " activation_1 (Activation)   (None, 72, 72, 64)        0         \n",
            "                                                                 \n",
            " max_pooling2d_1 (MaxPoolin  (None, 36, 36, 64)        0         \n",
            " g2D)                                                            \n",
            "                                                                 \n",
            " conv2d_2 (Conv2D)           (None, 34, 34, 128)       73856     \n",
            "                                                                 \n",
            " activation_2 (Activation)   (None, 34, 34, 128)       0         \n",
            "                                                                 \n",
            " max_pooling2d_2 (MaxPoolin  (None, 17, 17, 128)       0         \n",
            " g2D)                                                            \n",
            "                                                                 \n",
            " flatten (Flatten)           (None, 36992)             0         \n",
            "                                                                 \n",
            " dense (Dense)               (None, 128)               4735104   \n",
            "                                                                 \n",
            " activation_3 (Activation)   (None, 128)               0         \n",
            "                                                                 \n",
            " dropout (Dropout)           (None, 128)               0         \n",
            "                                                                 \n",
            " dense_1 (Dense)             (None, 1)                 129       \n",
            "                                                                 \n",
            " activation_4 (Activation)   (None, 1)                 0         \n",
            "                                                                 \n",
            "=================================================================\n",
            "Total params: 4828481 (18.42 MB)\n",
            "Trainable params: 4828481 (18.42 MB)\n",
            "Non-trainable params: 0 (0.00 Byte)\n",
            "_________________________________________________________________\n"
          ]
        }
      ]
    }
  ],
  "metadata": {
    "colab": {
      "provenance": [],
      "gpuType": "T4",
      "mount_file_id": "1tBW1mCJMVxezp54C9AKVXGH5ggQyVhgM",
      "authorship_tag": "ABX9TyMdeq02C2aNBblhuXU4u3XI",
      "include_colab_link": true
    },
    "kernelspec": {
      "display_name": "Python 3",
      "name": "python3"
    },
    "language_info": {
      "name": "python"
    },
    "accelerator": "GPU"
  },
  "nbformat": 4,
  "nbformat_minor": 0
}